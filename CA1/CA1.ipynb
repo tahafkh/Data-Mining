{
 "cells": [
  {
   "cell_type": "markdown",
   "id": "fbde8084-7d33-4ea1-aba7-842fb628aecc",
   "metadata": {},
   "source": [
    "# DM - CA1 - Mohamad Taha Fakharian"
   ]
  },
  {
   "cell_type": "code",
   "execution_count": null,
   "id": "1c11a0d3-2528-4a4e-bced-b8512116fa2d",
   "metadata": {},
   "outputs": [],
   "source": []
  }
 ],
 "metadata": {
  "kernelspec": {
   "display_name": "Python 3 (ipykernel)",
   "language": "python",
   "name": "python3"
  },
  "language_info": {
   "codemirror_mode": {
    "name": "ipython",
    "version": 3
   },
   "file_extension": ".py",
   "mimetype": "text/x-python",
   "name": "python",
   "nbconvert_exporter": "python",
   "pygments_lexer": "ipython3",
   "version": "3.7.3"
  }
 },
 "nbformat": 4,
 "nbformat_minor": 5
}
